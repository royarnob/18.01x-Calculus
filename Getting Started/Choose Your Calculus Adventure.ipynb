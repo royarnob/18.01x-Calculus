{
 "cells": [
  {
   "cell_type": "markdown",
   "id": "88d933b3",
   "metadata": {},
   "source": [
    "#### **1. Choose Your Own Calculus Adventure**\n",
    "\n",
    "You are interested in learning calculus, but we don't know very much about you or what you already know. So to help you learn best, please take the following diagnostics. These diagnostics will help you choose a path through the content that makes the most sense for you.\n",
    "\n",
    "We want you to succeed, so make sure that you have the basic precalculus skills so you won't be frustrated! The first 4 pages test your readiness for this calculus class. If you aren't ready yet, don't worry, you can take this course later.\n",
    "\n",
    "Some of you may already know a lot of calculus. To help you get started in the right place, we have further diagnostics. On pages 5 and 6, you can take the limits and derivatives diagnostics. We encourage you to take a look at these even if you don't know any calculus yet. But don't worry; we designed this course for people with varying backgrounds, including those with no calculus experience."
   ]
  },
  {
   "cell_type": "markdown",
   "id": "38952a74",
   "metadata": {},
   "source": [
    "#### **2. Algebra Problems**\n",
    "\n",
    "**A1** What is the slope of the line through the points $(3, -5)$ and $(1,-1)$?\n",
    "\n",
    "***Answer.***\n",
    "\n",
    "Calculate the slope $m$ of the line:\n",
    "\\begin{aligned}\n",
    "m =\\frac{\\text{rise}}{\\text{run}} &=\\frac{y_1-y_0}{x_1-x_0} \\\\\n",
    "&=\\frac{-1-(-5)}{1-3} \\\\\n",
    "&=-2\n",
    "\\end{aligned}\n",
    "\n",
    "Therefore, the slope of the line through the points $(3, -5)$ and $(1,-1)$ is $-2$."
   ]
  },
  {
   "cell_type": "markdown",
   "id": "37b9a659",
   "metadata": {},
   "source": [
    "**A2** The lines $3x+2y=7$ and $x-3y=6$ intersect in a point with what coordinates?\n",
    "\n",
    "***Answer.***\n",
    "\n",
    "Find $x$ and $y$ by solving the system of equations.\n",
    "\n",
    "\\begin{aligned}\n",
    "3x+2y=7 \\\\\n",
    "x-3y=6\n",
    "\\end{aligned}\n",
    "\n",
    "$$\n",
    "\\begin{bmatrix}\n",
    "3 & 2 \\\\\n",
    "1 & -3 \n",
    "\\end{bmatrix}\n",
    "\\begin{bmatrix}\n",
    "x \\\\\n",
    "y\n",
    "\\end{bmatrix}\n",
    "=\n",
    "\\begin{bmatrix}\n",
    "7 \\\\\n",
    "6\n",
    "\\end{bmatrix}\n",
    "$$"
   ]
  }
 ],
 "metadata": {
  "kernelspec": {
   "display_name": "base",
   "language": "python",
   "name": "python3"
  },
  "language_info": {
   "codemirror_mode": {
    "name": "ipython",
    "version": 3
   },
   "file_extension": ".py",
   "mimetype": "text/x-python",
   "name": "python",
   "nbconvert_exporter": "python",
   "pygments_lexer": "ipython3",
   "version": "3.12.7"
  }
 },
 "nbformat": 4,
 "nbformat_minor": 5
}
